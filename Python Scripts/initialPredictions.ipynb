{
 "cells": [
  {
   "cell_type": "raw",
   "metadata": {},
   "source": []
  },
  {
   "cell_type": "code",
   "execution_count": 5,
   "metadata": {
    "collapsed": false
   },
   "outputs": [],
   "source": [
    "# Load Libraries and functions\n",
    "from matplotlib import pyplot as py\n",
    "from sklearn.model_selection import ShuffleSplit\n",
    "from sklearn.model_selection import train_test_split\n",
    "from sklearn.model_selection import cross_val_score\n",
    "from sklearn.preprocessing import StandardScaler\n",
    "from sklearn.pipeline import Pipeline\n",
    "\n",
    "## Import Regressors\n",
    "from sklearn.linear_model import LinearRegression\n",
    "from sklearn.linear_model import Lasso\n",
    "from sklearn.lindear_model import ElasticNet\n",
    "from sklearn.tree import DecisionTreeRegressor\n",
    "from sklearn.neighbors import KNeighborsRegressor\n",
    "from sklearn.naive_bayes import GaussianNB\n",
    "from sklearn.svm import SVC\n",
    "from sklearn.ensemble import RandomForestRegressor\n",
    "from sklearn.ensemble import GradientBoostingRegressor\n",
    "from sklearn.ensemble import AdaBoostRegressor\n",
    "from sklearn.metrics import mean_squared_error\n",
    "from productionBreakdown import productionBreakdown"
   ]
  },
  {
   "cell_type": "code",
   "execution_count": null,
   "metadata": {
    "collapsed": true
   },
   "outputs": [],
   "source": [
    "# Set returned tables to local variable\n",
    "production = productionBreakdown()\n",
    "\n",
    "# Pre data for training, validation, and testing\n",
    "seed = 7\n",
    "values = production.values\n",
    "num_cols = len(production.columns)\n",
    "predictors = values[:, 0:(num_cols - 1)]\n",
    "target = values[:, num_cols]\n",
    "\n",
    "## Initially split 60/40 Traing/Validation-Test\n",
    "X_train, X_ValTest, Y_train, Y_ValTest = train_test_split(predictors, target, test_size = .4, random_state=seed)\n",
    "\n",
    "## split Validation-Test 50:50 to generate equal validation and test sets\n",
    "X_val, X_test, y_val, y_test = train_test_split(X_ValTest, Y_ValTest, test_size = .5, random_state = seed)\n"
   ]
  },
  {
   "cell_type": "code",
   "execution_count": null,
   "metadata": {
    "collapsed": true
   },
   "outputs": [],
   "source": []
  },
  {
   "cell_type": "code",
   "execution_count": null,
   "metadata": {
    "collapsed": true
   },
   "outputs": [],
   "source": [
    "#Prepare Models for Baseline Evaluation\n",
    "models = []\n",
    "models.append(('LR', LinearRegression()))\n",
    "models.append(('LASSO', Lasso()))\n",
    "models.append(('EN', ElasticNet()))\n",
    "models.append(('KNN', KNeighborsRegressor()))\n",
    "models.append(('CART', DecisionTreeRegressor()))\n",
    "models.append(('SVM', SVR()))\n",
    "\n",
    "# Evaluate Models\n",
    "baseline_results = []\n",
    "names = []\n",
    "for name, model in models:\n",
    "    kfold = ShuffleSplit(n_splits = 10, test_size = .1, random_state = seed)\n",
    "    cv_results = cross_val_score(model, X_train, Y_train, cv = kfold, scoring = 'neg_mean_squared_error')\n",
    "    baseline_results.append(cv_results)\n",
    "    names.append(name)\n",
    "    msg = \"%s: %f (%f)\" % (name, cv_results.mean(), cv_results.std())\n",
    "    print(msg)\n",
    "    \n",
    "## From here, figure out how to pull the name of the algorithm and pass down the pipeline?"
   ]
  },
  {
   "cell_type": "code",
   "execution_count": null,
   "metadata": {
    "collapsed": true
   },
   "outputs": [],
   "source": [
    "# Generate comparitive dot plot for algorithm performance\n",
    "fig = py.figure()\n",
    "fig.suptitle('Algorithm Comparison')\n",
    "ax = fig.add_subplot(111)\n",
    "py.boxplot(results)\n",
    "ax.set_xticklabels(names)\n",
    "py.show"
   ]
  },
  {
   "cell_type": "code",
   "execution_count": null,
   "metadata": {
    "collapsed": true
   },
   "outputs": [],
   "source": [
    "# Ensemble Models for Baseline Evaluation\n",
    "models2 = []\n",
    "models2.append(('RF', RandomForestRegressor(n_estimators = 100, max_features = 7)))\n",
    "models2.append(('GBM', GradientBoostingRegressor(n_estimators = 100, random_state=seed)))\n",
    "models2.append(('ADA', AdaBoostRegressor()))\n",
    "\n",
    "# Evaluate Models\n",
    "ensemble_results = []\n",
    "ensemble_names = []\n",
    "for name, model in models2:\n",
    "    kfold = ShuffleSplit(n_splits)"
   ]
  },
  {
   "cell_type": "code",
   "execution_count": null,
   "metadata": {
    "collapsed": true
   },
   "outputs": [],
   "source": [
    "# Standardize Dataset for use in  Pipeline\n",
    "pipelines = []\n",
    "pipelines.append(('ScaledCART', Pipeline([('Scaler', StandardScaler()), ('CART', DecisionTreeClassifier())])))\n",
    "pipesline.append(('ScaledSVM', Pipeline([('Scaler', StandardScaler()), ('SVM', SVC())])))\n",
    "pipeslines.append(('ScaledRF', Pipeline([('Scaler', StandardScaler()), ('RF', RandomForestClassifier())])))\n"
   ]
  }
 ],
 "metadata": {
  "kernelspec": {
   "display_name": "Python 3",
   "language": "python",
   "name": "python3"
  },
  "language_info": {
   "codemirror_mode": {
    "name": "ipython",
    "version": 3
   },
   "file_extension": ".py",
   "mimetype": "text/x-python",
   "name": "python",
   "nbconvert_exporter": "python",
   "pygments_lexer": "ipython3",
   "version": "3.6.0"
  }
 },
 "nbformat": 4,
 "nbformat_minor": 2
}
