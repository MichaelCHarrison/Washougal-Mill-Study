{
 "cells": [
  {
   "cell_type": "code",
   "execution_count": 82,
   "metadata": {
    "collapsed": false
   },
   "outputs": [],
   "source": [
    "import pandas as pd"
   ]
  },
  {
   "cell_type": "code",
   "execution_count": 263,
   "metadata": {
    "collapsed": false
   },
   "outputs": [],
   "source": []
  },
  {
   "cell_type": "code",
   "execution_count": null,
   "metadata": {
    "collapsed": false
   },
   "outputs": [],
   "source": []
  },
  {
   "cell_type": "code",
   "execution_count": 364,
   "metadata": {
    "collapsed": false
   },
   "outputs": [],
   "source": [
    "from tidyBom import  tidyBom\n",
    "from tidyYarns import tidyYarns\n",
    "\n",
    "# Load functions and set to local variables\n",
    "tidy_Bom = tidyBom() \n",
    "tidy_Yarns = tidyYarns()\n",
    "tidy_BomYarns = pd.merge(tidy_Bom, tidy_Yarns, on = 'yarn', how = 'outer')\n"
   ]
  },
  {
   "cell_type": "code",
   "execution_count": 350,
   "metadata": {
    "collapsed": false
   },
   "outputs": [],
   "source": [
    "millstyles = tidy_BomYarns.groupby('millstyle')\n",
    "totalLbs = (millstyles.agg({'lbsperpiece' : 'sum',\n",
    "\t\t\t\t\t\t\t'yarn' : 'count'})\n",
    "\t\t    \t\t  .rename(columns = {\"lbsperpiece\" : \"totallbsperpiece\",\n",
    "                                         \"yarn\" : \"num_yarns\"}))"
   ]
  },
  {
   "cell_type": "code",
   "execution_count": 378,
   "metadata": {
    "collapsed": false
   },
   "outputs": [],
   "source": [
    "millstylesyarns = tidy_BomYarns.groupby(['millstyle','type'])\n",
    "sumtype = (millstylesyarns.agg({'lbsperpiece': 'sum'})\n",
    "\t\t\t\t\t\t   .rename(columns = {\"lbsperpiece\" : \"sumyarntype\"}))"
   ]
  },
  {
   "cell_type": "code",
   "execution_count": 374,
   "metadata": {
    "collapsed": false
   },
   "outputs": [],
   "source": [
    "joined_lbsType = pd.merge(totalLbs, sumtype, left_index = True, right_index = True).reset_index()\n",
    "joined_lbsType = joined_lbsType.assign(perc_present = joined_lbsType.sumyarntype / joined_lbsType.totallbsperpiece)"
   ]
  },
  {
   "cell_type": "code",
   "execution_count": 460,
   "metadata": {
    "collapsed": false
   },
   "outputs": [
    {
     "data": {
      "text/html": [
       "<div>\n",
       "<table border=\"1\" class=\"dataframe\">\n",
       "  <thead>\n",
       "    <tr style=\"text-align: right;\">\n",
       "      <th></th>\n",
       "      <th>millstyle</th>\n",
       "      <th>type</th>\n",
       "      <th>totallbsperpiece</th>\n",
       "      <th>num_yarns</th>\n",
       "      <th>sumyarntype</th>\n",
       "      <th>perc_present</th>\n",
       "    </tr>\n",
       "  </thead>\n",
       "  <tbody>\n",
       "    <tr>\n",
       "      <th>0</th>\n",
       "      <td>1001-22413-1</td>\n",
       "      <td>Spun</td>\n",
       "      <td>55.6</td>\n",
       "      <td>1</td>\n",
       "      <td>55.6</td>\n",
       "      <td>1.000000</td>\n",
       "    </tr>\n",
       "    <tr>\n",
       "      <th>1</th>\n",
       "      <td>1001-23131-1</td>\n",
       "      <td>Spun</td>\n",
       "      <td>55.2</td>\n",
       "      <td>3</td>\n",
       "      <td>55.2</td>\n",
       "      <td>1.000000</td>\n",
       "    </tr>\n",
       "    <tr>\n",
       "      <th>2</th>\n",
       "      <td>1001-23131-2</td>\n",
       "      <td>Dye</td>\n",
       "      <td>55.2</td>\n",
       "      <td>3</td>\n",
       "      <td>18.3</td>\n",
       "      <td>0.331522</td>\n",
       "    </tr>\n",
       "    <tr>\n",
       "      <th>3</th>\n",
       "      <td>1001-23131-2</td>\n",
       "      <td>Spun</td>\n",
       "      <td>55.2</td>\n",
       "      <td>3</td>\n",
       "      <td>36.9</td>\n",
       "      <td>0.668478</td>\n",
       "    </tr>\n",
       "    <tr>\n",
       "      <th>4</th>\n",
       "      <td>1001-23131-4</td>\n",
       "      <td>Spun</td>\n",
       "      <td>55.2</td>\n",
       "      <td>3</td>\n",
       "      <td>55.2</td>\n",
       "      <td>1.000000</td>\n",
       "    </tr>\n",
       "  </tbody>\n",
       "</table>\n",
       "</div>"
      ],
      "text/plain": [
       "      millstyle  type  totallbsperpiece  num_yarns  sumyarntype  perc_present\n",
       "0  1001-22413-1  Spun              55.6          1         55.6      1.000000\n",
       "1  1001-23131-1  Spun              55.2          3         55.2      1.000000\n",
       "2  1001-23131-2   Dye              55.2          3         18.3      0.331522\n",
       "3  1001-23131-2  Spun              55.2          3         36.9      0.668478\n",
       "4  1001-23131-4  Spun              55.2          3         55.2      1.000000"
      ]
     },
     "execution_count": 460,
     "metadata": {},
     "output_type": "execute_result"
    }
   ],
   "source": [
    "joined_lbsType.head()"
   ]
  },
  {
   "cell_type": "code",
   "execution_count": 478,
   "metadata": {
    "collapsed": false
   },
   "outputs": [
    {
     "data": {
      "text/plain": [
       "0    1\n",
       "1    1\n",
       "2    0\n",
       "3    1\n",
       "4    1\n",
       "Name: type, dtype: int64"
      ]
     },
     "execution_count": 478,
     "metadata": {},
     "output_type": "execute_result"
    }
   ],
   "source": [
    "millstylesyarns = joined_lbsType.groupby(['millstyle','type'])\n",
    "added_perc = \n",
    "\n",
    "#joined_lbsType = joined_lbsType.assign(perc_spun = lambda x: joined_lbsType.perc_present if x == 'Spun' else 0)\n",
    "\n",
    "joined_lbsType.type.apply(lambda x: 1 if x == 'Spun' else 0)"
   ]
  },
  {
   "cell_type": "code",
   "execution_count": 491,
   "metadata": {
    "collapsed": false
   },
   "outputs": [
    {
     "ename": "SyntaxError",
     "evalue": "invalid syntax (<ipython-input-491-134b9d8ec00a>, line 1)",
     "output_type": "error",
     "traceback": [
      "\u001b[0;36m  File \u001b[0;32m\"<ipython-input-491-134b9d8ec00a>\"\u001b[0;36m, line \u001b[0;32m1\u001b[0m\n\u001b[0;31m    joined_lbsType['perc_spun'] =  if x == 'Spun' else 0 for x in joined_lbsType['type']]\u001b[0m\n\u001b[0m                                    ^\u001b[0m\n\u001b[0;31mSyntaxError\u001b[0m\u001b[0;31m:\u001b[0m invalid syntax\n"
     ]
    }
   ],
   "source": [
    "joined_lbsType['perc_spun'] =  if x == 'Spun' else 0 for x in joined_lbsType['type']]"
   ]
  },
  {
   "cell_type": "code",
   "execution_count": null,
   "metadata": {
    "collapsed": true
   },
   "outputs": [],
   "source": [
    "joined_lbsType.loc[joined]"
   ]
  },
  {
   "cell_type": "code",
   "execution_count": 456,
   "metadata": {
    "collapsed": false
   },
   "outputs": [
    {
     "name": "stdout",
     "output_type": "stream",
     "text": [
      "<class 'pandas.core.frame.DataFrame'>\n",
      "RangeIndex: 5 entries, 0 to 4\n",
      "Data columns (total 6 columns):\n",
      "millstyle           5 non-null object\n",
      "type                5 non-null object\n",
      "totallbsperpiece    5 non-null float64\n",
      "num_yarns           5 non-null int64\n",
      "sumyarntype         5 non-null float64\n",
      "perc_present        5 non-null float64\n",
      "dtypes: float64(3), int64(1), object(2)\n",
      "memory usage: 320.0+ bytes\n"
     ]
    }
   ],
   "source": [
    "joined_lbsType.info()"
   ]
  },
  {
   "cell_type": "code",
   "execution_count": 488,
   "metadata": {
    "collapsed": false
   },
   "outputs": [
    {
     "data": {
      "text/plain": [
       "'Spun'"
      ]
     },
     "execution_count": 488,
     "metadata": {},
     "output_type": "execute_result"
    }
   ],
   "source": [
    "joined_lbsType.iloc[0]['type']"
   ]
  },
  {
   "cell_type": "code",
   "execution_count": 486,
   "metadata": {
    "collapsed": false
   },
   "outputs": [
    {
     "data": {
      "text/html": [
       "<div>\n",
       "<table border=\"1\" class=\"dataframe\">\n",
       "  <thead>\n",
       "    <tr style=\"text-align: right;\">\n",
       "      <th></th>\n",
       "      <th>millstyle</th>\n",
       "      <th>type</th>\n",
       "      <th>totallbsperpiece</th>\n",
       "      <th>num_yarns</th>\n",
       "      <th>sumyarntype</th>\n",
       "      <th>perc_present</th>\n",
       "      <th>perc_spun</th>\n",
       "    </tr>\n",
       "  </thead>\n",
       "  <tbody>\n",
       "    <tr>\n",
       "      <th>0</th>\n",
       "      <td>1001-22413-1</td>\n",
       "      <td>Spun</td>\n",
       "      <td>55.6</td>\n",
       "      <td>1</td>\n",
       "      <td>55.6</td>\n",
       "      <td>1.000000</td>\n",
       "      <td>0    1.000000\n",
       "1    1.000000\n",
       "2    0.331522\n",
       "3   ...</td>\n",
       "    </tr>\n",
       "    <tr>\n",
       "      <th>1</th>\n",
       "      <td>1001-23131-1</td>\n",
       "      <td>Spun</td>\n",
       "      <td>55.2</td>\n",
       "      <td>3</td>\n",
       "      <td>55.2</td>\n",
       "      <td>1.000000</td>\n",
       "      <td>0    1.000000\n",
       "1    1.000000\n",
       "2    0.331522\n",
       "3   ...</td>\n",
       "    </tr>\n",
       "    <tr>\n",
       "      <th>2</th>\n",
       "      <td>1001-23131-2</td>\n",
       "      <td>Dye</td>\n",
       "      <td>55.2</td>\n",
       "      <td>3</td>\n",
       "      <td>18.3</td>\n",
       "      <td>0.331522</td>\n",
       "      <td>0</td>\n",
       "    </tr>\n",
       "    <tr>\n",
       "      <th>3</th>\n",
       "      <td>1001-23131-2</td>\n",
       "      <td>Spun</td>\n",
       "      <td>55.2</td>\n",
       "      <td>3</td>\n",
       "      <td>36.9</td>\n",
       "      <td>0.668478</td>\n",
       "      <td>0    1.000000\n",
       "1    1.000000\n",
       "2    0.331522\n",
       "3   ...</td>\n",
       "    </tr>\n",
       "    <tr>\n",
       "      <th>4</th>\n",
       "      <td>1001-23131-4</td>\n",
       "      <td>Spun</td>\n",
       "      <td>55.2</td>\n",
       "      <td>3</td>\n",
       "      <td>55.2</td>\n",
       "      <td>1.000000</td>\n",
       "      <td>0    1.000000\n",
       "1    1.000000\n",
       "2    0.331522\n",
       "3   ...</td>\n",
       "    </tr>\n",
       "  </tbody>\n",
       "</table>\n",
       "</div>"
      ],
      "text/plain": [
       "      millstyle  type  totallbsperpiece  num_yarns  sumyarntype  perc_present  \\\n",
       "0  1001-22413-1  Spun              55.6          1         55.6      1.000000   \n",
       "1  1001-23131-1  Spun              55.2          3         55.2      1.000000   \n",
       "2  1001-23131-2   Dye              55.2          3         18.3      0.331522   \n",
       "3  1001-23131-2  Spun              55.2          3         36.9      0.668478   \n",
       "4  1001-23131-4  Spun              55.2          3         55.2      1.000000   \n",
       "\n",
       "                                           perc_spun  \n",
       "0  0    1.000000\n",
       "1    1.000000\n",
       "2    0.331522\n",
       "3   ...  \n",
       "1  0    1.000000\n",
       "1    1.000000\n",
       "2    0.331522\n",
       "3   ...  \n",
       "2                                                  0  \n",
       "3  0    1.000000\n",
       "1    1.000000\n",
       "2    0.331522\n",
       "3   ...  \n",
       "4  0    1.000000\n",
       "1    1.000000\n",
       "2    0.331522\n",
       "3   ...  "
      ]
     },
     "execution_count": 486,
     "metadata": {},
     "output_type": "execute_result"
    }
   ],
   "source": [
    "joined_lbsType.head()"
   ]
  },
  {
   "cell_type": "code",
   "execution_count": null,
   "metadata": {
    "collapsed": true
   },
   "outputs": [],
   "source": []
  },
  {
   "cell_type": "code",
   "execution_count": null,
   "metadata": {
    "collapsed": true
   },
   "outputs": [],
   "source": []
  },
  {
   "cell_type": "code",
   "execution_count": null,
   "metadata": {
    "collapsed": false
   },
   "outputs": [],
   "source": []
  },
  {
   "cell_type": "code",
   "execution_count": null,
   "metadata": {
    "collapsed": true
   },
   "outputs": [],
   "source": []
  },
  {
   "cell_type": "code",
   "execution_count": null,
   "metadata": {
    "collapsed": false
   },
   "outputs": [],
   "source": []
  },
  {
   "cell_type": "code",
   "execution_count": 499,
   "metadata": {
    "collapsed": false
   },
   "outputs": [],
   "source": []
  },
  {
   "cell_type": "code",
   "execution_count": 509,
   "metadata": {
    "collapsed": false
   },
   "outputs": [],
   "source": [
    "def joinedM365Stops():\n",
    "\t# Load libraries and functions\n",
    "\timport pandas as pandas\n",
    "\tfrom tidyM365 import tidyM365\n",
    "\tfrom tidyStops import tidyStops\n",
    "\n",
    "\t# Set returned dataframe to local variables\n",
    "\ttidy_M365 = tidyM365()\n",
    "\ttidy_stops = tidyStops()\n",
    "\n",
    "\t# Merge dataframes\n",
    "\ttidy_M365Stops = pd.merge(tidy_M365, tidy_stops, on = ['date', 'loom', 'range'], how = 'inner')\n",
    "\n",
    "\t# \n",
    "\tgroupby = tidy_M365Stops.groupby(['date', 'range', 'millstyle', 'loom'])\n",
    "\tjoined_M365Stops = (groupby.agg({'ppm' : 'mean',\n",
    "\t\t\t\t\t\t\t\t\t'mpx' : 'sum',\n",
    "\t\t\t\t\t\t\t\t\t'yds' : 'sum',\n",
    "\t\t\t\t\t\t\t\t\t'combinedstops' : 'sum'})\n",
    "\t\t\t\t\t\t\t.rename(columns = {'ppm' : 'avgppm',\n",
    "\t\t\t\t\t\t\t\t\t\t\t'mpx' : 'totalpx',\n",
    "\t\t\t\t\t\t\t\t\t\t\t'yds' : 'totalyards',\n",
    "\t\t\t\t\t\t\t\t\t\t\t'combinedstops' : 'totalstops'}))\n",
    "\tjoined_M365Stops = joined_M365Stops.assign(yardsperpx = joined_M365Stops['totalyards'] / joined_M365Stops['totalpx'])\n",
    "\n",
    "\treturn joined_M365Stops.reset_index()\n"
   ]
  },
  {
   "cell_type": "code",
   "execution_count": null,
   "metadata": {
    "collapsed": false
   },
   "outputs": [],
   "source": []
  },
  {
   "cell_type": "code",
   "execution_count": 510,
   "metadata": {
    "collapsed": false
   },
   "outputs": [
    {
     "data": {
      "text/plain": [
       "(7279, 9)"
      ]
     },
     "execution_count": 510,
     "metadata": {},
     "output_type": "execute_result"
    }
   ],
   "source": [
    "joined_M365Stops = joinedM365Stops()\n",
    "joined_M365Stops.shape"
   ]
  },
  {
   "cell_type": "code",
   "execution_count": 508,
   "metadata": {
    "collapsed": false
   },
   "outputs": [
    {
     "data": {
      "text/html": [
       "<div>\n",
       "<table border=\"1\" class=\"dataframe\">\n",
       "  <thead>\n",
       "    <tr style=\"text-align: right;\">\n",
       "      <th></th>\n",
       "      <th>date</th>\n",
       "      <th>range</th>\n",
       "      <th>millstyle</th>\n",
       "      <th>loom</th>\n",
       "      <th>avgppm</th>\n",
       "      <th>totalpx</th>\n",
       "      <th>totalyards</th>\n",
       "      <th>totalstops</th>\n",
       "      <th>yardsperpx</th>\n",
       "    </tr>\n",
       "  </thead>\n",
       "  <tbody>\n",
       "    <tr>\n",
       "      <th>0</th>\n",
       "      <td>2015-07-15</td>\n",
       "      <td>542</td>\n",
       "      <td>542A14742-3</td>\n",
       "      <td>18</td>\n",
       "      <td>350.0</td>\n",
       "      <td>484.0</td>\n",
       "      <td>561.0</td>\n",
       "      <td>164.0</td>\n",
       "      <td>1.159091</td>\n",
       "    </tr>\n",
       "    <tr>\n",
       "      <th>1</th>\n",
       "      <td>2015-07-15</td>\n",
       "      <td>542</td>\n",
       "      <td>542A18155-1</td>\n",
       "      <td>26</td>\n",
       "      <td>360.0</td>\n",
       "      <td>174.0</td>\n",
       "      <td>280.5</td>\n",
       "      <td>132.0</td>\n",
       "      <td>1.612069</td>\n",
       "    </tr>\n",
       "    <tr>\n",
       "      <th>2</th>\n",
       "      <td>2015-07-15</td>\n",
       "      <td>542</td>\n",
       "      <td>542A23589-7</td>\n",
       "      <td>19</td>\n",
       "      <td>360.0</td>\n",
       "      <td>524.0</td>\n",
       "      <td>561.0</td>\n",
       "      <td>102.0</td>\n",
       "      <td>1.070611</td>\n",
       "    </tr>\n",
       "    <tr>\n",
       "      <th>3</th>\n",
       "      <td>2015-07-15</td>\n",
       "      <td>542</td>\n",
       "      <td>542A23906-1</td>\n",
       "      <td>6</td>\n",
       "      <td>370.0</td>\n",
       "      <td>1062.0</td>\n",
       "      <td>841.5</td>\n",
       "      <td>396.0</td>\n",
       "      <td>0.792373</td>\n",
       "    </tr>\n",
       "    <tr>\n",
       "      <th>4</th>\n",
       "      <td>2015-07-15</td>\n",
       "      <td>641</td>\n",
       "      <td>641A21316-2</td>\n",
       "      <td>23</td>\n",
       "      <td>350.0</td>\n",
       "      <td>538.0</td>\n",
       "      <td>544.5</td>\n",
       "      <td>94.0</td>\n",
       "      <td>1.012082</td>\n",
       "    </tr>\n",
       "  </tbody>\n",
       "</table>\n",
       "</div>"
      ],
      "text/plain": [
       "        date range    millstyle  loom  avgppm  totalpx  totalyards  \\\n",
       "0 2015-07-15   542  542A14742-3    18   350.0    484.0       561.0   \n",
       "1 2015-07-15   542  542A18155-1    26   360.0    174.0       280.5   \n",
       "2 2015-07-15   542  542A23589-7    19   360.0    524.0       561.0   \n",
       "3 2015-07-15   542  542A23906-1     6   370.0   1062.0       841.5   \n",
       "4 2015-07-15   641  641A21316-2    23   350.0    538.0       544.5   \n",
       "\n",
       "   totalstops  yardsperpx  \n",
       "0       164.0    1.159091  \n",
       "1       132.0    1.612069  \n",
       "2       102.0    1.070611  \n",
       "3       396.0    0.792373  \n",
       "4        94.0    1.012082  "
      ]
     },
     "execution_count": 508,
     "metadata": {},
     "output_type": "execute_result"
    }
   ],
   "source": [
    "joined_M365Stops.head()"
   ]
  },
  {
   "cell_type": "code",
   "execution_count": null,
   "metadata": {
    "collapsed": true
   },
   "outputs": [],
   "source": []
  }
 ],
 "metadata": {
  "kernelspec": {
   "display_name": "Python 3",
   "language": "python",
   "name": "python3"
  },
  "language_info": {
   "codemirror_mode": {
    "name": "ipython",
    "version": 3
   },
   "file_extension": ".py",
   "mimetype": "text/x-python",
   "name": "python",
   "nbconvert_exporter": "python",
   "pygments_lexer": "ipython3",
   "version": "3.6.0"
  }
 },
 "nbformat": 4,
 "nbformat_minor": 2
}
